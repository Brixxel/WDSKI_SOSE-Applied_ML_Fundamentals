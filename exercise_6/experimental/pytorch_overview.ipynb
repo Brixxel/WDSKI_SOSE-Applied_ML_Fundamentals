{
 "cells": [
  {
   "cell_type": "markdown",
   "id": "3a609289",
   "metadata": {},
   "source": [
    "# This Notebook is a guide through the construction of a Neural Network using PyTorch\n",
    "Author: Felix Regler\n",
    "\n",
    "Based on lecture material by Daniel Wehner (DHBW Mannheim)"
   ]
  },
  {
   "cell_type": "markdown",
   "id": "eace0626",
   "metadata": {},
   "source": [
    "## Step 0: Setup and Resources\n",
    "\n",
    "PyTorch Installation Guide: https://pytorch.org/get-started/locally/\n",
    "\n",
    "For local use (ensure pip is updated):\n",
    "\n",
    "        pip install torch torchvision\n",
    "\n",
    "\n"
   ]
  },
  {
   "cell_type": "code",
   "execution_count": 3,
   "id": "0ce334c1",
   "metadata": {},
   "outputs": [
    {
     "name": "stdout",
     "output_type": "stream",
     "text": [
      "Using device: mps\n"
     ]
    }
   ],
   "source": [
    "# Import core libraries\n",
    "import torch\n",
    "import torch.nn as nn\n",
    "import torch.optim as optim\n",
    "\n",
    "# Check device (GPU/MPS/CPU)\n",
    "if torch.backends.mps.is_available():\n",
    "    device = torch.device(\"mps\")\n",
    "elif torch.cuda.is_available():\n",
    "    device = torch.device(\"cuda\")\n",
    "else:\n",
    "    device = torch.device(\"cpu\")\n",
    "print(\"Using device:\", device)"
   ]
  },
  {
   "cell_type": "markdown",
   "id": "6c955c3e",
   "metadata": {},
   "source": []
  },
  {
   "cell_type": "code",
   "execution_count": 4,
   "id": "ec92262b",
   "metadata": {},
   "outputs": [
    {
     "ename": "RuntimeError",
     "evalue": "Tensor for argument weight is on cpu but expected on mps",
     "output_type": "error",
     "traceback": [
      "\u001b[31m---------------------------------------------------------------------------\u001b[39m",
      "\u001b[31mRuntimeError\u001b[39m                              Traceback (most recent call last)",
      "\u001b[36mCell\u001b[39m\u001b[36m \u001b[39m\u001b[32mIn[4]\u001b[39m\u001b[32m, line 16\u001b[39m\n\u001b[32m     14\u001b[39m \u001b[38;5;66;03m# Forward pass with example input\u001b[39;00m\n\u001b[32m     15\u001b[39m x = torch.tensor([[\u001b[32m0.5\u001b[39m, -\u001b[32m0.2\u001b[39m, \u001b[32m1.0\u001b[39m]], dtype=torch.float32).to(device)\n\u001b[32m---> \u001b[39m\u001b[32m16\u001b[39m output = \u001b[43mneuron\u001b[49m\u001b[43m(\u001b[49m\u001b[43mx\u001b[49m\u001b[43m.\u001b[49m\u001b[43mto\u001b[49m\u001b[43m(\u001b[49m\u001b[43mdevice\u001b[49m\u001b[43m)\u001b[49m\u001b[43m)\u001b[49m\n\u001b[32m     17\u001b[39m \u001b[38;5;28mprint\u001b[39m(\u001b[33m\"\u001b[39m\u001b[33mOutput of single neuron:\u001b[39m\u001b[33m\"\u001b[39m, output.item())\n",
      "\u001b[36mFile \u001b[39m\u001b[32m/Library/Frameworks/Python.framework/Versions/3.13/lib/python3.13/site-packages/torch/nn/modules/module.py:1751\u001b[39m, in \u001b[36mModule._wrapped_call_impl\u001b[39m\u001b[34m(self, *args, **kwargs)\u001b[39m\n\u001b[32m   1749\u001b[39m     \u001b[38;5;28;01mreturn\u001b[39;00m \u001b[38;5;28mself\u001b[39m._compiled_call_impl(*args, **kwargs)  \u001b[38;5;66;03m# type: ignore[misc]\u001b[39;00m\n\u001b[32m   1750\u001b[39m \u001b[38;5;28;01melse\u001b[39;00m:\n\u001b[32m-> \u001b[39m\u001b[32m1751\u001b[39m     \u001b[38;5;28;01mreturn\u001b[39;00m \u001b[38;5;28;43mself\u001b[39;49m\u001b[43m.\u001b[49m\u001b[43m_call_impl\u001b[49m\u001b[43m(\u001b[49m\u001b[43m*\u001b[49m\u001b[43margs\u001b[49m\u001b[43m,\u001b[49m\u001b[43m \u001b[49m\u001b[43m*\u001b[49m\u001b[43m*\u001b[49m\u001b[43mkwargs\u001b[49m\u001b[43m)\u001b[49m\n",
      "\u001b[36mFile \u001b[39m\u001b[32m/Library/Frameworks/Python.framework/Versions/3.13/lib/python3.13/site-packages/torch/nn/modules/module.py:1762\u001b[39m, in \u001b[36mModule._call_impl\u001b[39m\u001b[34m(self, *args, **kwargs)\u001b[39m\n\u001b[32m   1757\u001b[39m \u001b[38;5;66;03m# If we don't have any hooks, we want to skip the rest of the logic in\u001b[39;00m\n\u001b[32m   1758\u001b[39m \u001b[38;5;66;03m# this function, and just call forward.\u001b[39;00m\n\u001b[32m   1759\u001b[39m \u001b[38;5;28;01mif\u001b[39;00m \u001b[38;5;129;01mnot\u001b[39;00m (\u001b[38;5;28mself\u001b[39m._backward_hooks \u001b[38;5;129;01mor\u001b[39;00m \u001b[38;5;28mself\u001b[39m._backward_pre_hooks \u001b[38;5;129;01mor\u001b[39;00m \u001b[38;5;28mself\u001b[39m._forward_hooks \u001b[38;5;129;01mor\u001b[39;00m \u001b[38;5;28mself\u001b[39m._forward_pre_hooks\n\u001b[32m   1760\u001b[39m         \u001b[38;5;129;01mor\u001b[39;00m _global_backward_pre_hooks \u001b[38;5;129;01mor\u001b[39;00m _global_backward_hooks\n\u001b[32m   1761\u001b[39m         \u001b[38;5;129;01mor\u001b[39;00m _global_forward_hooks \u001b[38;5;129;01mor\u001b[39;00m _global_forward_pre_hooks):\n\u001b[32m-> \u001b[39m\u001b[32m1762\u001b[39m     \u001b[38;5;28;01mreturn\u001b[39;00m \u001b[43mforward_call\u001b[49m\u001b[43m(\u001b[49m\u001b[43m*\u001b[49m\u001b[43margs\u001b[49m\u001b[43m,\u001b[49m\u001b[43m \u001b[49m\u001b[43m*\u001b[49m\u001b[43m*\u001b[49m\u001b[43mkwargs\u001b[49m\u001b[43m)\u001b[49m\n\u001b[32m   1764\u001b[39m result = \u001b[38;5;28;01mNone\u001b[39;00m\n\u001b[32m   1765\u001b[39m called_always_called_hooks = \u001b[38;5;28mset\u001b[39m()\n",
      "\u001b[36mFile \u001b[39m\u001b[32m/Library/Frameworks/Python.framework/Versions/3.13/lib/python3.13/site-packages/torch/nn/modules/container.py:240\u001b[39m, in \u001b[36mSequential.forward\u001b[39m\u001b[34m(self, input)\u001b[39m\n\u001b[32m    238\u001b[39m \u001b[38;5;28;01mdef\u001b[39;00m\u001b[38;5;250m \u001b[39m\u001b[34mforward\u001b[39m(\u001b[38;5;28mself\u001b[39m, \u001b[38;5;28minput\u001b[39m):\n\u001b[32m    239\u001b[39m     \u001b[38;5;28;01mfor\u001b[39;00m module \u001b[38;5;129;01min\u001b[39;00m \u001b[38;5;28mself\u001b[39m:\n\u001b[32m--> \u001b[39m\u001b[32m240\u001b[39m         \u001b[38;5;28minput\u001b[39m = \u001b[43mmodule\u001b[49m\u001b[43m(\u001b[49m\u001b[38;5;28;43minput\u001b[39;49m\u001b[43m)\u001b[49m\n\u001b[32m    241\u001b[39m     \u001b[38;5;28;01mreturn\u001b[39;00m \u001b[38;5;28minput\u001b[39m\n",
      "\u001b[36mFile \u001b[39m\u001b[32m/Library/Frameworks/Python.framework/Versions/3.13/lib/python3.13/site-packages/torch/nn/modules/module.py:1751\u001b[39m, in \u001b[36mModule._wrapped_call_impl\u001b[39m\u001b[34m(self, *args, **kwargs)\u001b[39m\n\u001b[32m   1749\u001b[39m     \u001b[38;5;28;01mreturn\u001b[39;00m \u001b[38;5;28mself\u001b[39m._compiled_call_impl(*args, **kwargs)  \u001b[38;5;66;03m# type: ignore[misc]\u001b[39;00m\n\u001b[32m   1750\u001b[39m \u001b[38;5;28;01melse\u001b[39;00m:\n\u001b[32m-> \u001b[39m\u001b[32m1751\u001b[39m     \u001b[38;5;28;01mreturn\u001b[39;00m \u001b[38;5;28;43mself\u001b[39;49m\u001b[43m.\u001b[49m\u001b[43m_call_impl\u001b[49m\u001b[43m(\u001b[49m\u001b[43m*\u001b[49m\u001b[43margs\u001b[49m\u001b[43m,\u001b[49m\u001b[43m \u001b[49m\u001b[43m*\u001b[49m\u001b[43m*\u001b[49m\u001b[43mkwargs\u001b[49m\u001b[43m)\u001b[49m\n",
      "\u001b[36mFile \u001b[39m\u001b[32m/Library/Frameworks/Python.framework/Versions/3.13/lib/python3.13/site-packages/torch/nn/modules/module.py:1762\u001b[39m, in \u001b[36mModule._call_impl\u001b[39m\u001b[34m(self, *args, **kwargs)\u001b[39m\n\u001b[32m   1757\u001b[39m \u001b[38;5;66;03m# If we don't have any hooks, we want to skip the rest of the logic in\u001b[39;00m\n\u001b[32m   1758\u001b[39m \u001b[38;5;66;03m# this function, and just call forward.\u001b[39;00m\n\u001b[32m   1759\u001b[39m \u001b[38;5;28;01mif\u001b[39;00m \u001b[38;5;129;01mnot\u001b[39;00m (\u001b[38;5;28mself\u001b[39m._backward_hooks \u001b[38;5;129;01mor\u001b[39;00m \u001b[38;5;28mself\u001b[39m._backward_pre_hooks \u001b[38;5;129;01mor\u001b[39;00m \u001b[38;5;28mself\u001b[39m._forward_hooks \u001b[38;5;129;01mor\u001b[39;00m \u001b[38;5;28mself\u001b[39m._forward_pre_hooks\n\u001b[32m   1760\u001b[39m         \u001b[38;5;129;01mor\u001b[39;00m _global_backward_pre_hooks \u001b[38;5;129;01mor\u001b[39;00m _global_backward_hooks\n\u001b[32m   1761\u001b[39m         \u001b[38;5;129;01mor\u001b[39;00m _global_forward_hooks \u001b[38;5;129;01mor\u001b[39;00m _global_forward_pre_hooks):\n\u001b[32m-> \u001b[39m\u001b[32m1762\u001b[39m     \u001b[38;5;28;01mreturn\u001b[39;00m \u001b[43mforward_call\u001b[49m\u001b[43m(\u001b[49m\u001b[43m*\u001b[49m\u001b[43margs\u001b[49m\u001b[43m,\u001b[49m\u001b[43m \u001b[49m\u001b[43m*\u001b[49m\u001b[43m*\u001b[49m\u001b[43mkwargs\u001b[49m\u001b[43m)\u001b[49m\n\u001b[32m   1764\u001b[39m result = \u001b[38;5;28;01mNone\u001b[39;00m\n\u001b[32m   1765\u001b[39m called_always_called_hooks = \u001b[38;5;28mset\u001b[39m()\n",
      "\u001b[36mFile \u001b[39m\u001b[32m/Library/Frameworks/Python.framework/Versions/3.13/lib/python3.13/site-packages/torch/nn/modules/linear.py:125\u001b[39m, in \u001b[36mLinear.forward\u001b[39m\u001b[34m(self, input)\u001b[39m\n\u001b[32m    124\u001b[39m \u001b[38;5;28;01mdef\u001b[39;00m\u001b[38;5;250m \u001b[39m\u001b[34mforward\u001b[39m(\u001b[38;5;28mself\u001b[39m, \u001b[38;5;28minput\u001b[39m: Tensor) -> Tensor:\n\u001b[32m--> \u001b[39m\u001b[32m125\u001b[39m     \u001b[38;5;28;01mreturn\u001b[39;00m \u001b[43mF\u001b[49m\u001b[43m.\u001b[49m\u001b[43mlinear\u001b[49m\u001b[43m(\u001b[49m\u001b[38;5;28;43minput\u001b[39;49m\u001b[43m,\u001b[49m\u001b[43m \u001b[49m\u001b[38;5;28;43mself\u001b[39;49m\u001b[43m.\u001b[49m\u001b[43mweight\u001b[49m\u001b[43m,\u001b[49m\u001b[43m \u001b[49m\u001b[38;5;28;43mself\u001b[39;49m\u001b[43m.\u001b[49m\u001b[43mbias\u001b[49m\u001b[43m)\u001b[49m\n",
      "\u001b[31mRuntimeError\u001b[39m: Tensor for argument weight is on cpu but expected on mps"
     ]
    }
   ],
   "source": [
    "# A single artificial neuron computes: z = w^T x + b; a = g(z)\n",
    "# Where:\n",
    "# - w: weight vector\n",
    "# - x: input vector\n",
    "# - b: bias\n",
    "# - g: activation function\n",
    "\n",
    "# Define a simple perceptron-like neuron with sigmoid activation\n",
    "neuron = nn.Sequential(\n",
    "    nn.Linear(3, 1),\n",
    "    nn.Sigmoid()\n",
    ")\n",
    "\n",
    "# Forward pass with example input\n",
    "x = torch.tensor([[0.5, -0.2, 1.0]], dtype=torch.float32).to(device)\n",
    "output = neuron(x.to(device))\n",
    "print(\"Output of single neuron:\", output.item())"
   ]
  },
  {
   "cell_type": "markdown",
   "id": "5991ecd2",
   "metadata": {},
   "source": [
    "### NN-Basics\n",
    "\n",
    "... some math"
   ]
  },
  {
   "cell_type": "markdown",
   "id": "c2227fdb",
   "metadata": {},
   "source": [
    "## Diffrent Ways of defining a NN (with the nn.module and without)"
   ]
  },
  {
   "cell_type": "markdown",
   "id": "8919f19c",
   "metadata": {},
   "source": [
    "### Layer-Options\n",
    "\n",
    "PyTorch allows you to use different Layers. Differing in the way  they connect different layers of the NN"
   ]
  },
  {
   "cell_type": "code",
   "execution_count": null,
   "id": "f13bd603",
   "metadata": {},
   "outputs": [],
   "source": [
    "# PyTorch bietet viele Schicht-Typen: Linear, Convolutional, Recurrent...\n",
    "\n",
    "# Beispiel: Multi-Layer Perceptron mit 2 Schichten\n",
    "model = nn.Sequential(\n",
    "    nn.Linear(3, 5),      # input → hidden\n",
    "    nn.ReLU(),            # activation\n",
    "    nn.Linear(5, 2)       # hidden → output\n",
    ").to(device)\n",
    "\n",
    "# Modellzusammenfassung\n",
    "print(model)\n",
    "\n",
    "# Testlauf\n",
    "x = torch.randn(1, 3).to(device)\n",
    "y = model(x)\n",
    "print(\"Output:\", y)\n"
   ]
  },
  {
   "cell_type": "markdown",
   "id": "da243aa9",
   "metadata": {},
   "source": [
    "### Activation-Functions"
   ]
  },
  {
   "cell_type": "code",
   "execution_count": 5,
   "id": "f1a1e65e",
   "metadata": {},
   "outputs": [
    {
     "data": {
      "image/png": "[encoded data removed]",
      "text/plain": [
       "<Figure size 640x480 with 1 Axes>"
      ]
     },
     "metadata": {},
     "output_type": "display_data"
    }
   ],
   "source": [
    "# PyTorch stellt viele Aktivierungsfunktionen bereit:\n",
    "activation_examples = {\n",
    "    'Sigmoid': nn.Sigmoid(),\n",
    "    'ReLU': nn.ReLU(),\n",
    "    'Tanh': nn.Tanh(),\n",
    "    'LeakyReLU': nn.LeakyReLU(0.01),\n",
    "}\n",
    "\n",
    "# Mathematische Form (Beispiel: Sigmoid)\n",
    "# σ(z) = 1 / (1 + e^{-z})\n",
    "z = torch.linspace(-6, 6, steps=100)\n",
    "sigmoid = activation_examples['Sigmoid'](z)\n",
    "\n",
    "import matplotlib.pyplot as plt\n",
    "plt.plot(z.cpu(), sigmoid.cpu())\n",
    "plt.title(\"Sigmoid Activation\")\n",
    "plt.xlabel(\"z\")\n",
    "plt.ylabel(\"σ(z)\")\n",
    "plt.grid(True)\n",
    "plt.show()"
   ]
  },
  {
   "cell_type": "markdown",
   "id": "0c55b151",
   "metadata": {},
   "source": [
    "## Overview of Popular Loss Functions\n",
    "\n",
    "##### Normal-Loss-Function:\n",
    "\n",
    "\n",
    "##### Custom Loss-Function\n",
    "How to Create a Custom Loss Function?\n",
    "\n",
    "Define a Python function.\n",
    "\n",
    "Use PyTorch operations that support autograd (e.g., torch.sum, torch.mean).\n",
    "\n",
    "Optionally, create a class by subclassing nn.Module\n",
    "\n",
    "Example 1: Custom Loss as a Function"
   ]
  },
  {
   "cell_type": "markdown",
   "id": "aa2e0618",
   "metadata": {},
   "source": [
    "1. nn.MSELoss: Mean Squared Error Loss\n",
    "Purpose: Measures the average squared difference between the predicted values and the actual target values.\n",
    "Common Use: Used in regression tasks where the goal is to predict continuous values.\n",
    "Example:"
   ]
  },
  {
   "cell_type": "code",
   "execution_count": null,
   "id": "eebe01a8",
   "metadata": {},
   "outputs": [],
   "source": [
    "# Regression\n",
    "mse_loss = nn.MSELoss()\n",
    "\n",
    "# Klassifikation\n",
    "cross_entropy = nn.CrossEntropyLoss()\n",
    "\n",
    "# Beispiel: MSE Loss mit Vektorvergleich\n",
    "pred = torch.tensor([2.5, 0.0, 2.0, 7.0])\n",
    "target = torch.tensor([3.0, -0.5, 2.0, 8.0])\n",
    "loss = mse_loss(pred, target)\n",
    "print(\"MSE Loss:\", loss.item())\n",
    "\n",
    "# Beispiel: Cross-Entropy Loss mit Klassifikationslabels\n",
    "logits = torch.tensor([[1.0, 2.0, 3.0], [1.0, 2.0, 3.0]])\n",
    "labels = torch.tensor([2, 0])  # Klassifikationslabels\n",
    "cross_entropy_loss = cross_entropy(logits, labels)\n",
    "print(\"Cross-Entropy Loss:\", cross_entropy_loss.item())"
   ]
  },
  {
   "cell_type": "code",
   "execution_count": null,
   "id": "6a0e9a27",
   "metadata": {},
   "outputs": [],
   "source": [
    "# Initialize loss function\n",
    "mse_loss = nn.MSELoss()\n",
    "# Example predicted and target values\n",
    "pred = torch.tensor([2.5, 0.0, 2.0, 7.0])\n",
    "target = torch.tensor([3.0, -0.5, 2.0, 8.0])\n",
    "# Compute loss\n",
    "loss = mse_loss(pred, target)\n",
    "print(\"MSE Loss:\", loss.item())"
   ]
  },
  {
   "cell_type": "code",
   "execution_count": null,
   "id": "5d4d2f05",
   "metadata": {},
   "outputs": [],
   "source": [
    "# Custom Mean Absolute Error (MAE) Loss\n",
    "def custom_mae_loss(pred, target):\n",
    "    return torch.mean(torch.abs(pred - target))\n",
    "\n",
    "# Example usage\n",
    "pred = torch.tensor([2.5, 0.0, 2.0, 7.0])\n",
    "target = torch.tensor([3.0, -0.5, 2.0, 8.0])\n",
    "loss = custom_mae_loss(pred, target)\n",
    "print(\"Custom MAE Loss:\", loss.item())\n",
    "\n",
    "# Example 2: Custom Loss as an nn.Module\n",
    "class CustomL1Loss(nn.Module):\n",
    "    def __init__(self):\n",
    "        super(CustomL1Loss, self).__init__()\n",
    "    \n",
    "    def forward(self, pred, target):\n",
    "        return torch.sum(torch.abs(pred - target))  # L1 loss\n",
    "\n",
    "# Example usage\n",
    "loss_fn = CustomL1Loss()\n",
    "pred = torch.tensor([2.5, 0.0, 2.0, 7.0])\n",
    "target = torch.tensor([3.0, -0.5, 2.0, 8.0])\n",
    "loss = loss_fn(pred, target)\n",
    "print(\"Custom L1 Loss:\", loss.item())"
   ]
  },
  {
   "cell_type": "markdown",
   "id": "c5777dfc",
   "metadata": {},
   "source": [
    "### Optimization"
   ]
  },
  {
   "cell_type": "code",
   "execution_count": 6,
   "id": "2eac3ffd",
   "metadata": {},
   "outputs": [
    {
     "name": "stdout",
     "output_type": "stream",
     "text": [
      "Epoch 0: loss = 1.1414\n",
      "Epoch 5: loss = 1.1267\n",
      "Epoch 10: loss = 1.1124\n",
      "Epoch 15: loss = 1.0984\n"
     ]
    }
   ],
   "source": [
    "# Beispiel-Netzwerk\n",
    "net = nn.Sequential(\n",
    "    nn.Linear(4, 8),\n",
    "    nn.ReLU(),\n",
    "    nn.Linear(8, 3)\n",
    ").to(device)\n",
    "\n",
    "# Optimizer & Loss\n",
    "optimizer = optim.SGD(net.parameters(), lr=0.01)\n",
    "loss_fn = nn.CrossEntropyLoss()\n",
    "\n",
    "# Dummy-Daten (3 Klassen)\n",
    "x_train = torch.randn(5, 4).to(device)\n",
    "y_train = torch.tensor([0, 1, 2, 1, 0]).to(device)\n",
    "\n",
    "# Trainingsschleife\n",
    "for epoch in range(20):\n",
    "    optimizer.zero_grad()\n",
    "    y_pred = net(x_train)\n",
    "    loss = loss_fn(y_pred, y_train)\n",
    "    loss.backward()\n",
    "    optimizer.step()\n",
    "    if epoch % 5 == 0:\n",
    "        print(f\"Epoch {epoch}: loss = {loss.item():.4f}\")"
   ]
  },
  {
   "cell_type": "markdown",
   "id": "18c54bf3",
   "metadata": {},
   "source": [
    "### PyTorch Tips and Benefits"
   ]
  },
  {
   "cell_type": "code",
   "execution_count": null,
   "id": "480a7ec2",
   "metadata": {},
   "outputs": [],
   "source": [
    "##### "
   ]
  },
  {
   "cell_type": "markdown",
   "id": "4f4b82ec",
   "metadata": {},
   "source": [
    "# Deep Learning mit PyTorch – Mathematischer Zugang zu Neuronalen Netzen\n",
    "\n",
    "####  🛠️ Setup & Ressourcen\n",
    "Sicherstellen, dass PyTorch installiert ist\n",
    "    pip install torch torchvision"
   ]
  },
  {
   "cell_type": "code",
   "execution_count": null,
   "id": "e570f54c",
   "metadata": {},
   "outputs": [],
   "source": [
    "import torch\n",
    "import torch.nn as nn\n",
    "import torch.optim as optim"
   ]
  },
  {
   "cell_type": "code",
   "execution_count": null,
   "id": "8153ae94",
   "metadata": {},
   "outputs": [],
   "source": [
    "# Optional: Check MPS/CPU/GPU\n",
    "device = torch.device(\"mps\" if torch.backends.mps.is_available() else \"cuda\" if torch.cuda.is_available() else \"cpu\")\n",
    "print(\"Using device:\", device)"
   ]
  },
  {
   "cell_type": "markdown",
   "id": "fd28b2e0",
   "metadata": {},
   "source": [
    "## Das Perzeptron – Mathematische Grundlage\n",
    "\n",
    "Ein einfaches Perzeptron modelliert eine lineare Entscheidungsgrenze.\n",
    "Die mathematische Modellfunktion lautet:\n",
    "    h_{w,b}(x) = sign(w^T x + b)\n",
    "\n",
    "Hierbei:\n",
    "- w ∈ ℝ^M ist der Gewichtungsvektor\n",
    "- b ∈ ℝ ist der Bias\n",
    "- x ∈ ℝ^M ist der Eingabevektor\n",
    "\n",
    "Aktivierungsfunktion:\n",
    "    sign(z) = +1, falls z ≥ 0\n",
    "              -1, falls z < 0\n"
   ]
  },
  {
   "cell_type": "code",
   "execution_count": null,
   "id": "14a11ef1",
   "metadata": {},
   "outputs": [],
   "source": [
    "# Beispiel: Einfaches Perzeptron-Modell mit Heaviside-Aktivierung\n",
    "class Perceptron(nn.Module):\n",
    "    def __init__(self, input_dim):\n",
    "        super().__init__()\n",
    "        self.linear = nn.Linear(input_dim, 1)\n",
    "\n",
    "    def forward(self, x):\n",
    "        out = self.linear(x)\n",
    "        return torch.sign(out)"
   ]
  },
  {
   "cell_type": "markdown",
   "id": "18e2e488",
   "metadata": {},
   "source": [
    "## 📉 Perzeptron-Kriterium (Fehlerfunktion)\n",
    "\n",
    "Die Perzeptron-Kriteriums-Funktion:\n",
    "    J_P(w, b) = - ∑_{n ∈ M} y_n (w^T x_n + b)\n",
    "wobei M die Menge der falsch klassifizierten Beispiele ist.\n",
    "\n",
    "Gradienten:\n",
    "    ∂J/∂w = - ∑_{n ∈ M} y_n x_n\n",
    "    ∂J/∂b = - ∑_{n ∈ M} y_n"
   ]
  },
  {
   "cell_type": "code",
   "execution_count": null,
   "id": "31ceec3f",
   "metadata": {},
   "outputs": [
    {
     "name": "stdout",
     "output_type": "stream",
     "text": [
      "Using device: mps\n"
     ]
    },
    {
     "ename": "KeyboardInterrupt",
     "evalue": "",
     "output_type": "error",
     "traceback": [
      "\u001b[31m---------------------------------------------------------------------------\u001b[39m",
      "\u001b[31mKeyboardInterrupt\u001b[39m                         Traceback (most recent call last)",
      "\u001b[36mCell\u001b[39m\u001b[36m \u001b[39m\u001b[32mIn[2]\u001b[39m\u001b[32m, line 134\u001b[39m\n\u001b[32m    132\u001b[39m y_pred = model(x_train)\n\u001b[32m    133\u001b[39m loss = loss_fn(y_pred, y_train)\n\u001b[32m--> \u001b[39m\u001b[32m134\u001b[39m \u001b[43mloss\u001b[49m\u001b[43m.\u001b[49m\u001b[43mbackward\u001b[49m\u001b[43m(\u001b[49m\u001b[43m)\u001b[49m\n\u001b[32m    135\u001b[39m optimizer.step()\n\u001b[32m    136\u001b[39m \u001b[38;5;28;01mif\u001b[39;00m epoch % \u001b[32m10\u001b[39m == \u001b[32m0\u001b[39m:\n",
      "\u001b[36mFile \u001b[39m\u001b[32m/Library/Frameworks/Python.framework/Versions/3.13/lib/python3.13/site-packages/torch/_tensor.py:648\u001b[39m, in \u001b[36mTensor.backward\u001b[39m\u001b[34m(self, gradient, retain_graph, create_graph, inputs)\u001b[39m\n\u001b[32m    638\u001b[39m \u001b[38;5;28;01mif\u001b[39;00m has_torch_function_unary(\u001b[38;5;28mself\u001b[39m):\n\u001b[32m    639\u001b[39m     \u001b[38;5;28;01mreturn\u001b[39;00m handle_torch_function(\n\u001b[32m    640\u001b[39m         Tensor.backward,\n\u001b[32m    641\u001b[39m         (\u001b[38;5;28mself\u001b[39m,),\n\u001b[32m   (...)\u001b[39m\u001b[32m    646\u001b[39m         inputs=inputs,\n\u001b[32m    647\u001b[39m     )\n\u001b[32m--> \u001b[39m\u001b[32m648\u001b[39m \u001b[43mtorch\u001b[49m\u001b[43m.\u001b[49m\u001b[43mautograd\u001b[49m\u001b[43m.\u001b[49m\u001b[43mbackward\u001b[49m\u001b[43m(\u001b[49m\n\u001b[32m    649\u001b[39m \u001b[43m    \u001b[49m\u001b[38;5;28;43mself\u001b[39;49m\u001b[43m,\u001b[49m\u001b[43m \u001b[49m\u001b[43mgradient\u001b[49m\u001b[43m,\u001b[49m\u001b[43m \u001b[49m\u001b[43mretain_graph\u001b[49m\u001b[43m,\u001b[49m\u001b[43m \u001b[49m\u001b[43mcreate_graph\u001b[49m\u001b[43m,\u001b[49m\u001b[43m \u001b[49m\u001b[43minputs\u001b[49m\u001b[43m=\u001b[49m\u001b[43minputs\u001b[49m\n\u001b[32m    650\u001b[39m \u001b[43m\u001b[49m\u001b[43m)\u001b[49m\n",
      "\u001b[36mFile \u001b[39m\u001b[32m/Library/Frameworks/Python.framework/Versions/3.13/lib/python3.13/site-packages/torch/autograd/__init__.py:353\u001b[39m, in \u001b[36mbackward\u001b[39m\u001b[34m(tensors, grad_tensors, retain_graph, create_graph, grad_variables, inputs)\u001b[39m\n\u001b[32m    348\u001b[39m     retain_graph = create_graph\n\u001b[32m    350\u001b[39m \u001b[38;5;66;03m# The reason we repeat the same comment below is that\u001b[39;00m\n\u001b[32m    351\u001b[39m \u001b[38;5;66;03m# some Python versions print out the first line of a multi-line function\u001b[39;00m\n\u001b[32m    352\u001b[39m \u001b[38;5;66;03m# calls in the traceback and some print out the last line\u001b[39;00m\n\u001b[32m--> \u001b[39m\u001b[32m353\u001b[39m \u001b[43m_engine_run_backward\u001b[49m\u001b[43m(\u001b[49m\n\u001b[32m    354\u001b[39m \u001b[43m    \u001b[49m\u001b[43mtensors\u001b[49m\u001b[43m,\u001b[49m\n\u001b[32m    355\u001b[39m \u001b[43m    \u001b[49m\u001b[43mgrad_tensors_\u001b[49m\u001b[43m,\u001b[49m\n\u001b[32m    356\u001b[39m \u001b[43m    \u001b[49m\u001b[43mretain_graph\u001b[49m\u001b[43m,\u001b[49m\n\u001b[32m    357\u001b[39m \u001b[43m    \u001b[49m\u001b[43mcreate_graph\u001b[49m\u001b[43m,\u001b[49m\n\u001b[32m    358\u001b[39m \u001b[43m    \u001b[49m\u001b[43minputs\u001b[49m\u001b[43m,\u001b[49m\n\u001b[32m    359\u001b[39m \u001b[43m    \u001b[49m\u001b[43mallow_unreachable\u001b[49m\u001b[43m=\u001b[49m\u001b[38;5;28;43;01mTrue\u001b[39;49;00m\u001b[43m,\u001b[49m\n\u001b[32m    360\u001b[39m \u001b[43m    \u001b[49m\u001b[43maccumulate_grad\u001b[49m\u001b[43m=\u001b[49m\u001b[38;5;28;43;01mTrue\u001b[39;49;00m\u001b[43m,\u001b[49m\n\u001b[32m    361\u001b[39m \u001b[43m\u001b[49m\u001b[43m)\u001b[49m\n",
      "\u001b[36mFile \u001b[39m\u001b[32m/Library/Frameworks/Python.framework/Versions/3.13/lib/python3.13/site-packages/torch/autograd/graph.py:824\u001b[39m, in \u001b[36m_engine_run_backward\u001b[39m\u001b[34m(t_outputs, *args, **kwargs)\u001b[39m\n\u001b[32m    822\u001b[39m     unregister_hooks = _register_logging_hooks_on_whole_graph(t_outputs)\n\u001b[32m    823\u001b[39m \u001b[38;5;28;01mtry\u001b[39;00m:\n\u001b[32m--> \u001b[39m\u001b[32m824\u001b[39m     \u001b[38;5;28;01mreturn\u001b[39;00m \u001b[43mVariable\u001b[49m\u001b[43m.\u001b[49m\u001b[43m_execution_engine\u001b[49m\u001b[43m.\u001b[49m\u001b[43mrun_backward\u001b[49m\u001b[43m(\u001b[49m\u001b[43m  \u001b[49m\u001b[38;5;66;43;03m# Calls into the C++ engine to run the backward pass\u001b[39;49;00m\n\u001b[32m    825\u001b[39m \u001b[43m        \u001b[49m\u001b[43mt_outputs\u001b[49m\u001b[43m,\u001b[49m\u001b[43m \u001b[49m\u001b[43m*\u001b[49m\u001b[43margs\u001b[49m\u001b[43m,\u001b[49m\u001b[43m \u001b[49m\u001b[43m*\u001b[49m\u001b[43m*\u001b[49m\u001b[43mkwargs\u001b[49m\n\u001b[32m    826\u001b[39m \u001b[43m    \u001b[49m\u001b[43m)\u001b[49m  \u001b[38;5;66;03m# Calls into the C++ engine to run the backward pass\u001b[39;00m\n\u001b[32m    827\u001b[39m \u001b[38;5;28;01mfinally\u001b[39;00m:\n\u001b[32m    828\u001b[39m     \u001b[38;5;28;01mif\u001b[39;00m attach_logging_hooks:\n",
      "\u001b[31mKeyboardInterrupt\u001b[39m: "
     ]
    }
   ],
   "source": [
    "\n",
    "\n",
    "\n",
    "\n",
    "\n",
    "\n",
    "## 🔁 Abschnitt 2: Multi-Layer Perceptron (MLP)\n",
    "\n",
    "\"\"\"\n",
    "Ein MLP erweitert das einfache Perzeptron um versteckte Schichten.\n",
    "\n",
    "Modellstruktur:\n",
    "- Eingabe: x ∈ ℝ^d\n",
    "- Versteckte Schicht: a^{[1]} = σ(W^{[1]} x + b^{[1]})\n",
    "- Ausgabe: a^{[2]} = softmax(W^{[2]} a^{[1]} + b^{[2]})\n",
    "\n",
    "Verwendete Aktivierungsfunktionen:\n",
    "- σ(z) = 1 / (1 + e^{-z}) (Sigmoid)\n",
    "- softmax(z)_k = e^{z_k} / ∑_j e^{z_j} (für Klassifikation)\n",
    "\n",
    "\"\"\"\n",
    "\n",
    "class MLP(nn.Module):\n",
    "    def __init__(self, input_dim, hidden_dim, output_dim):\n",
    "        super().__init__()\n",
    "        self.hidden = nn.Linear(input_dim, hidden_dim)\n",
    "        self.output = nn.Linear(hidden_dim, output_dim)\n",
    "    \n",
    "    def forward(self, x):\n",
    "        z1 = self.hidden(x)\n",
    "        a1 = torch.sigmoid(z1)\n",
    "        z2 = self.output(a1)\n",
    "        a2 = torch.softmax(z2, dim=1)\n",
    "        return a2\n",
    "\n",
    "## 🎯 Abschnitt 3: Verlustfunktionen\n",
    "\n",
    "\"\"\"\n",
    "Für Klassifikationsaufgaben wird typischerweise die Kreuzentropie verwendet:\n",
    "\n",
    "ℓ_CE(ŷ, y) = - ∑_k y_k log(ŷ_k)\n",
    "\n",
    "Für Regression:\n",
    "ℓ_MSE(ŷ, y) = (1/N) ∑ (ŷ_i - y_i)^2\n",
    "\n",
    "\"\"\"\n",
    "\n",
    "# Beispiel:\n",
    "loss_fn = nn.CrossEntropyLoss()  # Für Klassifikation\n",
    "\n",
    "# MSE für Regression\n",
    "mse_loss = nn.MSELoss()\n",
    "\n",
    "## 🔍 Abschnitt 4: Backpropagation – Mathematisch erklärt\n",
    "\n",
    "\"\"\"\n",
    "Gradientenberechnung durch Kettenregel:\n",
    "\n",
    "Sei ℓ die Verlustfunktion, dann:\n",
    "    ∂ℓ/∂W^{[l]} = δ^{[l]} · (a^{[l-1]})^T\n",
    "    ∂ℓ/∂b^{[l]} = δ^{[l]}\n",
    "\n",
    "Für die letzte Schicht (softmax + crossentropy kombiniert):\n",
    "    δ^{[L]} = a^{[L]} - y\n",
    "\n",
    "Für versteckte Schichten:\n",
    "    δ^{[l]} = (W^{[l+1]})^T δ^{[l+1]} ⊙ σ'(z^{[l]})\n",
    "\"\"\"\n",
    "\n",
    "## 🔄 Abschnitt 5: Training mit PyTorch\n",
    "\n",
    "# Beispiel-Setup\n",
    "model = MLP(input_dim=4, hidden_dim=8, output_dim=3).to(device)\n",
    "optimizer = optim.SGD(model.parameters(), lr=0.01)\n",
    "\n",
    "# Dummy-Trainingsdaten\n",
    "x_train = torch.randn(10, 4).to(device)\n",
    "y_train = torch.randint(0, 3, (10,)).to(device)  # Klassenlabels\n",
    "\n",
    "# Training\n",
    "for epoch in range(100):\n",
    "    model.train()\n",
    "    optimizer.zero_grad()\n",
    "    y_pred = model(x_train)\n",
    "    loss = loss_fn(y_pred, y_train)\n",
    "    loss.backward()\n",
    "    optimizer.step()\n",
    "    if epoch % 10 == 0:\n",
    "        print(f\"Epoch {epoch}: Loss = {loss.item():.4f}\")\n",
    "\n",
    "## 🧠 Abschnitt 6: Erweiterungen & Tricks\n",
    "\n",
    "\"\"\"\n",
    "- Dropout für Regularisierung\n",
    "- Batch Normalization für stabileres Training\n",
    "- Weight Initialization (z. B. Xavier, He)\n",
    "- Learning Rate Schedulers\n",
    "- Data Augmentation\n",
    "\n",
    "\"\"\"\n",
    "\n",
    "## ✨ Abschnitt 7: Tipps zur PyTorch-Nutzung\n",
    "\n",
    "\"\"\"\n",
    "- Nutze `.to(device)` konsequent\n",
    "- `model.eval()` und `torch.no_grad()` beim Testen\n",
    "- `torch.utils.data.Dataset` + `DataLoader` für robuste Pipelines\n",
    "- TensorBoard (`torch.utils.tensorboard`) für Monitoring\n",
    "\"\"\"\n",
    "\n"
   ]
  }
 ],
 "metadata": {
  "kernelspec": {
   "display_name": "Python 3",
   "language": "python",
   "name": "python3"
  },
  "language_info": {
   "codemirror_mode": {
    "name": "ipython",
    "version": 3
   },
   "file_extension": ".py",
   "mimetype": "text/x-python",
   "name": "python",
   "nbconvert_exporter": "python",
   "pygments_lexer": "ipython3",
   "version": "3.13.3"
  }
 },
 "nbformat": 4,
 "nbformat_minor": 5
}
